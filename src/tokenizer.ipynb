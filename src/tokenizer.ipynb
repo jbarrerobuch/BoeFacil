{
 "cells": [
  {
   "cell_type": "code",
   "execution_count": 1,
   "id": "5badaeef-1dea-4cb6-9fef-b3682f523df1",
   "metadata": {},
   "outputs": [
    {
     "name": "stdout",
     "output_type": "stream",
     "text": [
      "Requirement already satisfied: sentence-transformers in /home/ec2-user/anaconda3/envs/pytorch_p310/lib/python3.10/site-packages (5.0.0)\n",
      "Requirement already satisfied: transformers<5.0.0,>=4.41.0 in /home/ec2-user/anaconda3/envs/pytorch_p310/lib/python3.10/site-packages (from sentence-transformers) (4.54.1)\n",
      "Requirement already satisfied: tqdm in /home/ec2-user/anaconda3/envs/pytorch_p310/lib/python3.10/site-packages (from sentence-transformers) (4.67.1)\n",
      "Requirement already satisfied: torch>=1.11.0 in /home/ec2-user/anaconda3/envs/pytorch_p310/lib/python3.10/site-packages (from sentence-transformers) (2.2.2)\n",
      "Requirement already satisfied: scikit-learn in /home/ec2-user/anaconda3/envs/pytorch_p310/lib/python3.10/site-packages (from sentence-transformers) (1.7.0)\n",
      "Requirement already satisfied: scipy in /home/ec2-user/anaconda3/envs/pytorch_p310/lib/python3.10/site-packages (from sentence-transformers) (1.15.2)\n",
      "Requirement already satisfied: huggingface-hub>=0.20.0 in /home/ec2-user/anaconda3/envs/pytorch_p310/lib/python3.10/site-packages (from sentence-transformers) (0.34.3)\n",
      "Requirement already satisfied: Pillow in /home/ec2-user/anaconda3/envs/pytorch_p310/lib/python3.10/site-packages (from sentence-transformers) (11.2.1)\n",
      "Requirement already satisfied: typing_extensions>=4.5.0 in /home/ec2-user/anaconda3/envs/pytorch_p310/lib/python3.10/site-packages (from sentence-transformers) (4.14.0)\n",
      "Requirement already satisfied: filelock in /home/ec2-user/anaconda3/envs/pytorch_p310/lib/python3.10/site-packages (from transformers<5.0.0,>=4.41.0->sentence-transformers) (3.16.1)\n",
      "Requirement already satisfied: numpy>=1.17 in /home/ec2-user/anaconda3/envs/pytorch_p310/lib/python3.10/site-packages (from transformers<5.0.0,>=4.41.0->sentence-transformers) (1.26.4)\n",
      "Requirement already satisfied: packaging>=20.0 in /home/ec2-user/anaconda3/envs/pytorch_p310/lib/python3.10/site-packages (from transformers<5.0.0,>=4.41.0->sentence-transformers) (24.2)\n",
      "Requirement already satisfied: pyyaml>=5.1 in /home/ec2-user/anaconda3/envs/pytorch_p310/lib/python3.10/site-packages (from transformers<5.0.0,>=4.41.0->sentence-transformers) (6.0.2)\n",
      "Requirement already satisfied: regex!=2019.12.17 in /home/ec2-user/anaconda3/envs/pytorch_p310/lib/python3.10/site-packages (from transformers<5.0.0,>=4.41.0->sentence-transformers) (2024.11.6)\n",
      "Requirement already satisfied: requests in /home/ec2-user/anaconda3/envs/pytorch_p310/lib/python3.10/site-packages (from transformers<5.0.0,>=4.41.0->sentence-transformers) (2.32.4)\n",
      "Requirement already satisfied: tokenizers<0.22,>=0.21 in /home/ec2-user/anaconda3/envs/pytorch_p310/lib/python3.10/site-packages (from transformers<5.0.0,>=4.41.0->sentence-transformers) (0.21.4)\n",
      "Requirement already satisfied: safetensors>=0.4.3 in /home/ec2-user/anaconda3/envs/pytorch_p310/lib/python3.10/site-packages (from transformers<5.0.0,>=4.41.0->sentence-transformers) (0.5.3)\n",
      "Requirement already satisfied: fsspec>=2023.5.0 in /home/ec2-user/anaconda3/envs/pytorch_p310/lib/python3.10/site-packages (from huggingface-hub>=0.20.0->sentence-transformers) (2025.5.1)\n",
      "Requirement already satisfied: hf-xet<2.0.0,>=1.1.3 in /home/ec2-user/anaconda3/envs/pytorch_p310/lib/python3.10/site-packages (from huggingface-hub>=0.20.0->sentence-transformers) (1.1.5)\n",
      "Requirement already satisfied: sympy in /home/ec2-user/anaconda3/envs/pytorch_p310/lib/python3.10/site-packages (from torch>=1.11.0->sentence-transformers) (1.14.0)\n",
      "Requirement already satisfied: networkx in /home/ec2-user/anaconda3/envs/pytorch_p310/lib/python3.10/site-packages (from torch>=1.11.0->sentence-transformers) (3.4.2)\n",
      "Requirement already satisfied: jinja2 in /home/ec2-user/anaconda3/envs/pytorch_p310/lib/python3.10/site-packages (from torch>=1.11.0->sentence-transformers) (3.1.6)\n",
      "Requirement already satisfied: MarkupSafe>=2.0 in /home/ec2-user/anaconda3/envs/pytorch_p310/lib/python3.10/site-packages (from jinja2->torch>=1.11.0->sentence-transformers) (3.0.2)\n",
      "Requirement already satisfied: charset_normalizer<4,>=2 in /home/ec2-user/anaconda3/envs/pytorch_p310/lib/python3.10/site-packages (from requests->transformers<5.0.0,>=4.41.0->sentence-transformers) (3.4.2)\n",
      "Requirement already satisfied: idna<4,>=2.5 in /home/ec2-user/anaconda3/envs/pytorch_p310/lib/python3.10/site-packages (from requests->transformers<5.0.0,>=4.41.0->sentence-transformers) (3.10)\n",
      "Requirement already satisfied: urllib3<3,>=1.21.1 in /home/ec2-user/anaconda3/envs/pytorch_p310/lib/python3.10/site-packages (from requests->transformers<5.0.0,>=4.41.0->sentence-transformers) (1.26.19)\n",
      "Requirement already satisfied: certifi>=2017.4.17 in /home/ec2-user/anaconda3/envs/pytorch_p310/lib/python3.10/site-packages (from requests->transformers<5.0.0,>=4.41.0->sentence-transformers) (2025.6.15)\n",
      "Requirement already satisfied: joblib>=1.2.0 in /home/ec2-user/anaconda3/envs/pytorch_p310/lib/python3.10/site-packages (from scikit-learn->sentence-transformers) (1.5.1)\n",
      "Requirement already satisfied: threadpoolctl>=3.1.0 in /home/ec2-user/anaconda3/envs/pytorch_p310/lib/python3.10/site-packages (from scikit-learn->sentence-transformers) (3.6.0)\n",
      "Requirement already satisfied: mpmath<1.4,>=1.1.0 in /home/ec2-user/anaconda3/envs/pytorch_p310/lib/python3.10/site-packages (from sympy->torch>=1.11.0->sentence-transformers) (1.3.0)\n",
      "Requirement already satisfied: pyarrow in /home/ec2-user/anaconda3/envs/pytorch_p310/lib/python3.10/site-packages (20.0.0)\n"
     ]
    }
   ],
   "source": [
    "!pip install sentence-transformers\n",
    "!pip install pyarrow"
   ]
  },
  {
   "cell_type": "code",
   "execution_count": 2,
   "id": "4da8bc07",
   "metadata": {},
   "outputs": [],
   "source": [
    "import pandas as pd\n",
    "import sentence_transformers as st\n",
    "import os\n",
    "import boto3\n",
    "from io import BytesIO\n",
    "import pyarrow.parquet as pq"
   ]
  },
  {
   "cell_type": "code",
   "execution_count": 3,
   "id": "e74b87ef",
   "metadata": {},
   "outputs": [],
   "source": [
    "# Download from the 🤗 Hub\n",
    "model = st.SentenceTransformer(\"pablosi/bge-m3-trained-2\")"
   ]
  },
  {
   "cell_type": "code",
   "execution_count": 4,
   "id": "be6b7a23",
   "metadata": {},
   "outputs": [
    {
     "name": "stdout",
     "output_type": "stream",
     "text": [
      "626 parquet filesfound\n",
      "Reading file: parquet_chunks/boe_data_20230102.parquet\n"
     ]
    }
   ],
   "source": [
    "# Initialize S3 client\n",
    "s3_client = boto3.client('s3')\n",
    "\n",
    "# Define your bucket and folder path\n",
    "bucket_name = 'boe-facil'\n",
    "folder_path = 'parquet_chunks'\n",
    "\n",
    "# List all parquet files in the S3 folder\n",
    "response = s3_client.list_objects_v2(Bucket=bucket_name, Prefix=folder_path)\n",
    "\n",
    "parquet_files = []\n",
    "if 'Contents' in response:\n",
    "    for obj in response['Contents']:\n",
    "        if obj['Key'].endswith('.parquet'):\n",
    "            parquet_files.append(obj['Key'])\n",
    "\n",
    "print(f\"{len(parquet_files)} parquet filesfound\")\n",
    "\n",
    "# Read each parquet file one by one\n",
    "for file_key in parquet_files[:1]:\n",
    "    print(f\"Reading file: {file_key}\")\n",
    "\n",
    "    # Get the object from S3\n",
    "    obj = s3_client.get_object(Bucket=bucket_name, Key=file_key)\n",
    "\n",
    "    # Read parquet file into pandas dataframe\n",
    "    df = pd.read_parquet(BytesIO(obj['Body'].read()))"
   ]
  },
  {
   "cell_type": "raw",
   "id": "dd09ef0b-07bb-44a4-ba18-0c938dd3f5dc",
   "metadata": {},
   "source": [
    "parquet_dir = os.path.abspath(os.path.join(os.getcwd(), \"..\", \"samples\", \"parquet_chunks\"))\n",
    "parquet_files = os.listdir(parquet_dir)\n",
    "for file in parquet_files[:1]:\n",
    "    print(f\"Reading file: {os.path.join(parquet_dir,file)}\")\n",
    "    df = pd.read_parquet(os.path.join(parquet_dir,file))\n",
    "    df = df.loc[:1]\n",
    "    embeddings = model.encode_document(\n",
    "        sentences=df[\"texto\"],\n",
    "        output_value=\"sentence_embedding\",\n",
    "        show_progress_bar=True,\n",
    "    )\n",
    "    print(embeddings.shape)\n",
    "    df[\"embeddings\"] = embeddings.tolist()"
   ]
  },
  {
   "cell_type": "code",
   "execution_count": 5,
   "id": "792b1bfd",
   "metadata": {},
   "outputs": [
    {
     "name": "stdout",
     "output_type": "stream",
     "text": [
      "<class 'pandas.core.frame.DataFrame'>\n",
      "Index: 374 entries, 0 to 373\n",
      "Data columns (total 20 columns):\n",
      " #   Column               Non-Null Count  Dtype \n",
      "---  ------               --------------  ----- \n",
      " 0   sumario_id           374 non-null    object\n",
      " 1   seccion_codigo       374 non-null    object\n",
      " 2   seccion_nombre       374 non-null    object\n",
      " 3   departamento_codigo  374 non-null    object\n",
      " 4   departamento_nombre  374 non-null    object\n",
      " 5   epigrafe_nombre      374 non-null    object\n",
      " 6   item_id              374 non-null    object\n",
      " 7   item_titulo          374 non-null    object\n",
      " 8   chunk_id             374 non-null    object\n",
      " 9   chunk_numero         374 non-null    int64 \n",
      " 10  fecha_publicacion    374 non-null    object\n",
      " 11  diario_numero        374 non-null    object\n",
      " 12  publicacion          374 non-null    object\n",
      " 13  texto                374 non-null    object\n",
      " 14  tokens_aproximados   374 non-null    int64 \n",
      " 15  total_chunks_fila    374 non-null    int64 \n",
      " 16  sumario_url_pdf      374 non-null    object\n",
      " 17  item_url_pdf         374 non-null    object\n",
      " 18  archivo_guardado     374 non-null    object\n",
      " 19  nombre_archivo       374 non-null    object\n",
      "dtypes: int64(3), object(17)\n",
      "memory usage: 61.4+ KB\n"
     ]
    }
   ],
   "source": [
    "df.info()"
   ]
  },
  {
   "cell_type": "code",
   "execution_count": null,
   "id": "a25e2ef6-ebbe-4eb1-a177-6c6f71b076f8",
   "metadata": {},
   "outputs": [
    {
     "data": {
      "application/vnd.jupyter.widget-view+json": {
       "model_id": "30de625e69af4bb89411f273a49e2e26",
       "version_major": 2,
       "version_minor": 0
      },
      "text/plain": [
       "Batches:   0%|          | 0/12 [00:00<?, ?it/s]"
      ]
     },
     "metadata": {},
     "output_type": "display_data"
    },
    {
     "name": "stderr",
     "output_type": "stream",
     "text": [
      "/home/ec2-user/anaconda3/envs/pytorch_p310/lib/python3.10/site-packages/torch/nn/modules/module.py:1520: FutureWarning: `encoder_attention_mask` is deprecated and will be removed in version 4.55.0 for `XLMRobertaSdpaSelfAttention.forward`.\n",
      "  return forward_call(*args, **kwargs)\n"
     ]
    }
   ],
   "source": [
    "embeddings = model.encode_document(\n",
    "    sentences=df[\"texto\"],\n",
    "    output_value=\"sentence_embedding\",\n",
    "    show_progress_bar=True,\n",
    ")\n",
    "print(embeddings.shape)\n",
    "df[\"embeddings\"] = embeddings.tolist()"
   ]
  }
 ],
 "metadata": {
  "kernelspec": {
   "display_name": "conda_pytorch_p310",
   "language": "python",
   "name": "conda_pytorch_p310"
  },
  "language_info": {
   "codemirror_mode": {
    "name": "ipython",
    "version": 3
   },
   "file_extension": ".py",
   "mimetype": "text/x-python",
   "name": "python",
   "nbconvert_exporter": "python",
   "pygments_lexer": "ipython3",
   "version": "3.10.14"
  }
 },
 "nbformat": 4,
 "nbformat_minor": 5
}
